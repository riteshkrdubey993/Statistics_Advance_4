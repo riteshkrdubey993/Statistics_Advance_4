{
 "cells": [
  {
   "cell_type": "markdown",
   "id": "7c5fb45e-b618-4551-a774-4b213e0a7117",
   "metadata": {},
   "source": [
    "# Q1: What is the difference between a t-test and a z-test? Provide an example scenario where you would use each type of test."
   ]
  },
  {
   "cell_type": "markdown",
   "id": "b84d9e8d-4b81-47cf-9934-ac39b5c2d461",
   "metadata": {},
   "source": [
    "T-tests and z-tests are both statistical hypothesis tests used to make inferences about population parameters, such as population means. However, they are suited for different situations and differ primarily in how they handle sample size and knowledge of population standard deviation.\n",
    "\n",
    "Here are the key differences between t-tests and z-tests:\n",
    "\n",
    "### Z-Test:\n",
    "1. Z-tests are used when the sample size is large (typically greater than 30) or when you have knowledge of the population standard deviation. The z-test assumes a normal distribution and is appropriate for larger sample sizes.\n",
    "2. Z-tests require knowledge of the population standard deviation. If you know the population standard deviation, you can use the z-test for more precise results.\n",
    "#### Example: \n",
    "We are conducting quality control for a manufacturing process that produces light bulbs. You have historical data indicating that the population standard deviation of bulb lifetimes is 5 hours. You take a sample of 100 bulbs from a production batch and want to test if the mean bulb lifetime is still 1000 hours as expected.\n",
    "\n",
    "Test: One-sample z-test (since you know the population standard deviation and have a large enough sample size for the z-test to be appropriate).\n",
    "\n",
    "\n",
    "### T-Test:\n",
    "1. T-tests are generally used when the sample size is small (typically less than 30) and the population standard deviation is unknown. The t-distribution has heavier tails than the normal distribution, making it suitable for small samples where the assumptions of normality may not hold perfectly.\n",
    "2. T-tests do not require knowledge of the population standard deviation. They use the sample standard deviation to estimate the standard error of the sample mean\n",
    "\n",
    "#### Example:\n",
    "We want to test if a new teaching method improves student test scores compared to the old method. You take a random sample of 25 students and record their scores before and after the new method is implemented. You do not know the population standard deviation for student scores.\n",
    "\n",
    "Test: One-sample t-test (to compare the means of two related samples, before and after the new method).\n"
   ]
  },
  {
   "cell_type": "markdown",
   "id": "42474dfe-0df1-465e-9b4f-8698d577a5ba",
   "metadata": {},
   "source": [
    "# Q2: Differentiate between one-tailed and two-tailed tests."
   ]
  },
  {
   "cell_type": "markdown",
   "id": "58630879-ba66-46ab-b8b4-8c4d7e2412de",
   "metadata": {},
   "source": [
    "One-tailed and two-tailed tests are types of hypothesis tests used in statistics to make decisions about population parameters based on sample data. They differ in terms of the directionality of the test and the alternative hypotheses they consider.\n",
    "\n",
    "#### One-Tailed Test:\n",
    "\n",
    "1. Directionality: In a one-tailed test, you are interested in detecting an effect or difference in only one direction (either greater than or less than) but not both.\n",
    "\n",
    "2. Alternative Hypotheses:\n",
    "\n",
    "       Left-Tailed Test: In a left-tailed or lower-tailed test, the alternative hypothesis (H1) states that the population parameter is less than a specified value.\n",
    "       \n",
    "       Right-Tailed Test: In a right-tailed or upper-tailed test, the alternative hypothesis (H1) states that the population parameter is greater than a specified value.\n",
    "       \n",
    "       \n",
    "3. Rejection Region: The rejection region (critical region) for a one-tailed test is located in only one tail of the distribution (either the left or right tail), depending on the direction of the test.\n",
    "\n",
    "4. Example Scenarios: A pharmaceutical company wants to test if a new drug increases the average lifespan of patients. They use a one-tailed test with the alternative hypothesis that the drug increases lifespan (right-tailed).\n",
    "\n",
    "#### Two-Tailed Test:\n",
    "\n",
    "1. Directionality: In a two-tailed test, you are interested in detecting an effect or difference in both directions (either greater than or less than), which makes it more conservative.\n",
    "\n",
    "2. Alternative Hypothesis:\n",
    "\n",
    "       The alternative hypothesis (H1) for a two-tailed test typically states that the population parameter is not equal to a specified value.\n",
    "       \n",
    "       It is also common to see a two-tailed test with alternative hypotheses that explicitly state the direction of the difference (e.g., μ ≠ μ0  or μ > μ0 or μ < μ0), but this is still considered a two-tailed test because it covers both directions.\n",
    "       \n",
    "\n",
    "3. Rejection Region: The rejection region (critical region) for a two-tailed test is divided between both tails of the distribution, centered around the null hypothesis value.\n",
    "\n",
    "4. Example Scenarios: A manufacturer wants to test if a new production process affects the mean weight of their products. They use a two-tailed test with the alternative hypothesis that the mean weight is not equal to a specified value."
   ]
  },
  {
   "cell_type": "markdown",
   "id": "c87faae5-cbb7-42d1-99e3-94cf5dfd9987",
   "metadata": {},
   "source": [
    "# Q3: Explain the concept of Type 1 and Type 2 errors in hypothesis testing. Provide an example scenario for each type of error."
   ]
  },
  {
   "cell_type": "markdown",
   "id": "323c53b3-b064-4edd-a426-9402ad64ee47",
   "metadata": {},
   "source": [
    "In hypothesis testing, Type I and Type II errors are two types of mistakes or errors that can occur when making decisions about a null hypothesis. These errors are associated with the concept of statistical significance and the trade-off between making a correct decision and making an incorrect decision in hypothesis testing.\n",
    "\n",
    "1. Type I Error (False Positive):\n",
    "\n",
    "Definition: Type I error occurs when we reject a null hypothesis that is actually true. In other words, it is a false positive result.\n",
    "\n",
    "Example Scenario: Suppose a medical researcher is testing a new drug to determine if it's effective in treating a particular condition. The null hypothesis (H0) is that the drug has no effect, and the alternative hypothesis (H1) is that the drug is effective. If, based on the sample data, the researcher mistakenly concludes that the drug is effective (rejects the null hypothesis) when, in fact, it has no effect, that would be a Type I error. This error might lead to the drug being approved for use when it should not be.\n",
    "\n",
    "2. Type II Error (False Negative):\n",
    "\n",
    "Definition: Type II error occurs when we fail to reject a null hypothesis that is actually false. In other words, it is a false negative result.\n",
    "\n",
    "Example Scenario: Consider a quality control scenario in a manufacturing plant. The null hypothesis (H0) is that the production process is within acceptable limits, and the alternative hypothesis (H1) is that the process is out of control. If, based on the sample data, the quality control team fails to detect a problem (fails to reject the null hypothesis) when, in fact, the process is producing defective products, that would be a Type II error. This error might result in continued production of defective items, leading to quality issues."
   ]
  },
  {
   "cell_type": "markdown",
   "id": "a5912b9f-3f70-4344-b4ed-5e18106b3a5a",
   "metadata": {},
   "source": [
    "# Q4: Explain Bayes's theorem with an example."
   ]
  },
  {
   "cell_type": "markdown",
   "id": "5011dcfd-d787-478a-8f61-b94afd103a10",
   "metadata": {},
   "source": [
    " It describes how to update the probability of a hypothesis (an event or proposition) based on new evidence or information. Bayes' theorem is especially useful in situations where we want to make inferences or predictions in the presence of uncertainty.\n",
    "\n",
    "Bayes' theorem can be expressed mathematically as:\n",
    "\n",
    "P(A∣B)=  P(B | A) * P(A)/P(B)\n",
    "​\n",
    " \n",
    "\n",
    "Where:\n",
    "P(A | B) is the conditional probability of event A occurring given that event B has occurred.\n",
    "P(B | A) is the conditional probability of event B occurring given that event A has occurred.\n",
    "P(A) is the prior probability of event A.\n",
    "P(B) is the prior probability of event B.\n",
    "\n",
    "To illustrate Bayes' theorem, let's walk through an example:\n",
    "\n",
    "Example: Medical Diagnosis, Imagine a medical scenario where a patient is being tested for a rare disease. The disease, \"D,\" is relatively uncommon in the population, with a prevalence of 1%. The diagnostic test for the disease is not perfect; it can produce both false positives and false negatives.\n",
    "\n",
    "P(D): Prior probability of having the disease = 1% or 0.01.\n",
    "P(¬D): Prior probability of not having the disease = 99% or 0.99.\n",
    "P(+ | D): Probability of testing positive given that the patient has the disease = 95% or 0.95 (sensitivity).\n",
    "P(+ | ¬D): Probability of testing positive given that the patient does not have the disease = 5% or 0.05 (false positive rate).\n",
    "\n",
    "Now, we want to calculate the probability that a patient actually has the disease (P(D | +)) given that they tested positive.\n",
    "\n",
    "Using Bayes' theorem:\n",
    "\n",
    "P(D | +) =   $\\frac{(+ | D) * P(D)}{ P(+) }$\n",
    "\n",
    "We can calculate P(+) using the law of total probability:\n",
    "\n",
    "P(+)=P(+∣D)⋅P(D)+P(+∣¬D)⋅P(¬D)\n",
    "\n",
    "Substituting the values:\n",
    "\n",
    "P(D∣+)= $\\frac{0.95 * 0.01 } { 0.95 * 0.01 + 0.05 * 0.99} $\n",
    "\n",
    "Calculating this:\n",
    "\n",
    "P(D∣+)≈0.16\n",
    "\n",
    "So, even if a patient tests positive for the disease, there is only a 16% chance that they actually have the disease. This illustrates how Bayes' theorem allows us to update our beliefs or probabilities based on new information (in this case, the positive test result) and the prior probabilities. It also demonstrates that in situations with imperfect tests, a positive result does not necessarily imply a high probability of having the condition."
   ]
  },
  {
   "cell_type": "markdown",
   "id": "553ffe47-70bd-444a-80ce-e4bc8ed3c463",
   "metadata": {},
   "source": [
    "# Q5: What is a confidence interval? How to calculate the confidence interval, explain with an example."
   ]
  },
  {
   "cell_type": "markdown",
   "id": "72c40a44-6aab-4663-a8b4-fdfed08857af",
   "metadata": {},
   "source": [
    "A confidence interval is a statistical concept used to estimate a range of values within which a population parameter, such as a mean or proportion, is likely to fall. It provides a measure of the uncertainty or precision associated with a sample estimate. In simpler terms, it gives us a range of values that we are reasonably confident the true population parameter lies within.\n",
    "\n",
    "Here's how to calculate a confidence interval with an example:\n",
    "\n",
    "#### Step 1: Collect Data\n",
    "\n",
    "Let's say we want to calculate a 95% confidence interval for the average height of a certain population. We collect a random sample of 100 individuals from that population and measure their heights.\n",
    "\n",
    "#### Step 2: Calculate Sample Statistics\n",
    "\n",
    "Calculate the sample mean (x̄) and the sample standard deviation (s) from our data. These are our point estimates for the population parameters.\n",
    "\n",
    "#### Step 3: Choose a Confidence Level\n",
    "\n",
    "Decide on the confidence level that we want to use. A common choice is a 95% confidence level, which means we want to be 95% confident that the true population parameter falls within your calculated interval.\n",
    "\n",
    "#### Step 4: Determine the Critical Value\n",
    "\n",
    "The critical value corresponds to the chosen confidence level and the distribution we're working with. For normally distributed data and a 95% confidence level, we will use the z-table or a calculator to find the critical z-value. For instance, if we're using a standard normal distribution (mean = 0, standard deviation = 1), the critical z-value for a 95% confidence level is approximately 1.96.\n",
    "\n",
    "#### Step 5: Calculate the Margin of Error\n",
    "\n",
    "The margin of error (MOE) is the maximum amount by which your sample estimate is likely to differ from the true population parameter. It is calculated by multiplying the critical value by the standard error of the sample mean. The formula for the margin of error is:\n",
    "\n",
    "MOE = Critical Value (Z) × (Standard Deviation of Sample / √Sample Size)\n",
    "\n",
    "In our example, if the critical value (Z) is 1.96, and the standard deviation of the sample is, let's say, 2 inches, and the sample size is 100, then:\n",
    "\n",
    "MOE = 1.96 × (2 / √100) = 1.96 × (2 / 10) = 0.392 inches\n",
    "\n",
    "#### Step 6: Calculate the Confidence Interval\n",
    "\n",
    "Now we have the margin of error, so we can calculate the confidence interval. The confidence interval is constructed by taking your sample mean (x̄) and adding and subtracting the margin of error:\n",
    "\n",
    "Confidence Interval = x̄ ± MOE\n",
    "\n",
    "In our example, if the sample mean (x̄) is 65 inches:\n",
    "\n",
    "Confidence Interval = 65 ± 0.392\n",
    "\n",
    "So, the 95% confidence interval for the average height of the population is approximately 64.608 to 65.392 inches.\n",
    "\n",
    "This means that we can be 95% confident that the true average height of the population falls within this range based on our sample data."
   ]
  },
  {
   "cell_type": "markdown",
   "id": "9691a0be-a09a-4f5e-9cc0-a20eb3863767",
   "metadata": {},
   "source": [
    "# Q6. Use Bayes' Theorem to calculate the probability of an event occurring given prior knowledge of the event's probability and new evidence. Provide a sample problem and solution."
   ]
  },
  {
   "cell_type": "markdown",
   "id": "0caffa41-1c77-4989-ae38-0e3bf85baba5",
   "metadata": {},
   "source": [
    "The formula for Bayes' Theorem is as follows:\n",
    "\n",
    "#### P(A | B) =  $\\frac{ P(B | A)⋅P(A) }{P(B)}$\n",
    "\n",
    "Where:\n",
    "\n",
    "1. P(A∣B) is the probability of event A occurring given the evidence B.\n",
    "\n",
    "2. P(B∣A) is the probability of evidence B occurring given that A has occurred.\n",
    "\n",
    "3. P(A) is the prior probability of event A.\n",
    "\n",
    "4. P(B) is the prior probability of evidence B.\n",
    "\n",
    "\n",
    "\n",
    "Let's work through a sample problem to illustrate how to use Bayes' Theorem:\n",
    "\n",
    "Sample Problem:\n",
    "\n",
    "Suppose you are a doctor, and you want to determine the probability that a patient has a certain disease (D) given the results of a diagnostic test (T). You have the following information:\n",
    "\n",
    "1.  The probability that a person has the disease (prior probability):P(D)=0.02 (2% of the population has the disease).\n",
    "2. The probability that the test is positive given that a person has the disease: P(T∣D)=0.95 (the test is accurate and gives a positive result 95% of the time for those with the disease).\n",
    "3. The probability that the test is positive given that a person does not have the disease: P(T∣¬D)=0.10 (the test can produce false positives, so it's positive 10% of the time for healthy individuals).\n",
    "\n",
    "You want to find P(D∣T), the probability that a patient has the disease given that the test is positive.\n",
    "\n",
    "Solution:\n",
    "\n",
    "We can use Bayes' Theorem to calculate P(D∣T): \n",
    "\n",
    "P(D∣T)=  $\\frac{P(T | D)⋅P(D)}{P(T)}$\n",
    " \n",
    "\n",
    "First, we need to calculate P(T), the overall probability of testing positive, which can be calculated using the law of total probability:\n",
    "\n",
    "P(T) = P(T | D) * P(D) + P(T | ¬D) * P(¬D)\n",
    "\n",
    "We know P(D)=0.02 and P(¬D) (the probability of not having the disease) is\n",
    " 1−P(D) = 1−0.02\n",
    "        = 0.98.\n",
    "\n",
    "Now, we can calculate P(T):\n",
    "\n",
    "P(T) = (0.95 * 0.02) + (0.10 * 0.98)\n",
    "     =0.019 + 0.098\n",
    "     =0.117\n",
    "\n",
    "Now that we have P(T), we can calculate P(D | T) using Bayes' Theorem:\n",
    "\n",
    "P(D | T) =  $\\frac{P(T∣D)⋅P(D)}{P(T)}$\n",
    "         =  $\\frac{0.95⋅0.02}{0.117}$\n",
    "         ≈0.162\n",
    "         \n",
    "So, the probability that a patient has the disease given that the test is positive is approximately 0.162, or 16.2%. This demonstrates how Bayes' Theorem can help update our beliefs about the probability of an event based on new evidence."
   ]
  },
  {
   "cell_type": "markdown",
   "id": "dd2790d8-9069-4597-9255-9e1aa22d540e",
   "metadata": {},
   "source": [
    "# Q7. Calculate the 95% confidence interval for a sample of data with a mean of 50 and a standard deviation of 5. Interpret the results."
   ]
  },
  {
   "cell_type": "code",
   "execution_count": 13,
   "id": "91fa7fd6-a632-4ed9-b74f-f91ecba691fa",
   "metadata": {},
   "outputs": [
    {
     "name": "stdout",
     "output_type": "stream",
     "text": [
      "With 95% confidence interval and mean of 50 and standard deviation of 5, range is:(48.6141, 51.3859)\n"
     ]
    }
   ],
   "source": [
    "import numpy as np\n",
    "from scipy import stats\n",
    "\n",
    "confidence = 0.95\n",
    "significance_level = 1 - confidence\n",
    "sample_mean = 50\n",
    "std = 5\n",
    "sample_size = 50 # assume sample_size = 50\n",
    "\n",
    "z_score = stats.norm.ppf(1 - significance_level/2)\n",
    "\n",
    "margin_of_error = z_score * std/np.sqrt(sample_size)\n",
    "upper_limit = sample_mean + margin_of_error\n",
    "lower_limit = sample_mean - margin_of_error\n",
    "\n",
    "print(\"With 95% confidence interval and mean of 50 and standard deviation of 5, range is:({:.4f}, {:.4f})\".format(lower_limit, upper_limit))"
   ]
  },
  {
   "cell_type": "markdown",
   "id": "a25e7be4-0852-4e66-9f9e-e02ec4e17191",
   "metadata": {},
   "source": [
    "### Interpretation:\n",
    "The interval of (48.6141, 51.3859) tells us that with 95% confidence we can say that the population mean will lie in between (48.6141, 51.3859) interval."
   ]
  },
  {
   "cell_type": "markdown",
   "id": "27f6b6b1-d070-4d99-97af-f9686d267e0b",
   "metadata": {},
   "source": [
    "# Q8. What is the margin of error in a confidence interval? How does sample size affect the margin of error? Provide an example of a scenario where a larger sample size would result in a smaller margin of error."
   ]
  },
  {
   "cell_type": "markdown",
   "id": "5b0bad17-b442-43a6-b85d-8eedc5c3de08",
   "metadata": {},
   "source": [
    "The margin of error (MOE) in a confidence interval is a measure of the precision or uncertainty associated with the estimate of a population parameter (e.g., mean, proportion) based on a sample of data. It quantifies the range within which the true population parameter is likely to fall with a certain level of confidence.\n",
    "\n",
    "The margin of error is calculated using the following formula for different types of estimates:\n",
    "\n",
    "### For population means:\n",
    "\n",
    "Margin of Error = $Z*\\frac{\\sigma}{\\sqrt{n}}$\n",
    "\n",
    "where \n",
    "\n",
    "Z is the critical value from the standard normal distribution or t-distribution, \n",
    "\n",
    "σ is the population standard deviation (or sample standard deviation, if the population standard deviation is unknown), and \n",
    "\n",
    "n is the sample size.\n",
    "\n",
    "### For population proportions:\n",
    "\n",
    "Margin of error = $\\sqrt{\\frac{p(1-p)}{n}}$\n",
    "\n",
    "where \n",
    "\n",
    "Z is the critical value,\n",
    "\n",
    "p is the sample proportion, and\n",
    "\n",
    "n is the sample size. \n",
    "\n",
    "The margin of error is inversely proportional to the square root of the sample size. In other words, as the sample size increases, the margin of error decreases. This means that larger sample sizes result in smaller margins of error, which leads to more precise estimates.\n",
    "\n",
    "Let's consider a scenario where a larger sample size would result in a smaller margin of error:\n",
    "\n",
    "Suppose we are conducting a political poll to estimate the proportion of voters in a city who support a particular candidate. We have two options for sample sizes:\n",
    "\n",
    "Option 1: We survey 200 randomly selected voters.\n",
    "Option 2: We survey 1,000 randomly selected voters.\n",
    "\n",
    "In this case, the larger sample size (Option 2) will result in a smaller margin of error compared to the smaller sample size (Option 1). The reason is that with a larger sample size, we collect more data points, and the variability in your estimate decreases. As a result, we can be more confident that our estimate of the proportion of supporters is closer to the true proportion in the entire city."
   ]
  },
  {
   "cell_type": "markdown",
   "id": "a7b29851-015e-44d7-b417-51b6c116d089",
   "metadata": {},
   "source": [
    "# Q9. Calculate the z-score for a data point with a value of 75, a population mean of 70, and a population standard deviation of 5. Interpret the results."
   ]
  },
  {
   "cell_type": "code",
   "execution_count": 4,
   "id": "2f8a5244-d6c9-43eb-b2da-55c8a34da8fc",
   "metadata": {},
   "outputs": [
    {
     "name": "stdout",
     "output_type": "stream",
     "text": [
      "Z score: 1.0\n"
     ]
    }
   ],
   "source": [
    "from scipy import stats\n",
    "\n",
    "data_point = 75\n",
    "mean = 70\n",
    "std = 5\n",
    "\n",
    "z_score = (data_point - mean)/std\n",
    "print(f\"Z score: {z_score}\")"
   ]
  },
  {
   "cell_type": "markdown",
   "id": "0f033608-0047-4d36-89be-5aa24bb63e40",
   "metadata": {},
   "source": [
    "### Interpretation:\n",
    "The z-score of 1 tells us that the data point with a value of 75 is 1 standard deviation above the population mean (μ = 70). This means that the data point is higher than the average value by one standard deviation, z-score of 1 indicates that the data point is relatively higher than the average value within the population."
   ]
  },
  {
   "cell_type": "markdown",
   "id": "9af37e6e-30c7-4b4e-bb26-672bf2c5acca",
   "metadata": {},
   "source": [
    "# Q10. In a study of the effectiveness of a new weight loss drug, a sample of 50 participants lost an average of 6 pounds with a standard deviation of 2.5 pounds. Conduct a hypothesis test to determine if the drug is significantly effective at a 95% confidence level using a t-test."
   ]
  },
  {
   "cell_type": "code",
   "execution_count": 14,
   "id": "d1ee20e3-1516-405a-bb4e-e0dfb6b3ba5e",
   "metadata": {},
   "outputs": [
    {
     "name": "stdout",
     "output_type": "stream",
     "text": [
      "t value : 16.970562748477143\n",
      "Critical Value : 2.009575234489209\n",
      "Reject Null Hypothesis\n"
     ]
    }
   ],
   "source": [
    "import numpy as np\n",
    "from scipy import stats\n",
    "\n",
    "sample_size = 50\n",
    "sample_avg_weight_reduction = 6\n",
    "pop_avg_weight_reduction = 0\n",
    "std = 2.5\n",
    "confidence_level = 0.95\n",
    "significance_level = 1 - confidence_level\n",
    "degree_of_freedom = sample_size - 1\n",
    "\n",
    "#H0: avg weight reduction is almost nothing (i.e 0 pounds)\n",
    "#H1: avg weight reduction is significant\n",
    "t_value = (sample_avg_weight_reduction - pop_avg_weight_reduction)/(std/np.sqrt(sample_size))\n",
    "critical_value = stats.t.ppf(q = (1 - significance_level/2), df = degree_of_freedom)\n",
    "\n",
    "print(f't value : {t_value}')\n",
    "print(f'Critical Value : {critical_value}')\n",
    "if t_value > critical_value:\n",
    "    print('Reject Null Hypothesis')\n",
    "    \n",
    "else:\n",
    "    print('Fail to reject Null Hypothesis')"
   ]
  },
  {
   "cell_type": "markdown",
   "id": "4c37df1f-5e83-494f-92ff-fac23c70d97a",
   "metadata": {},
   "source": [
    "# Q11. In a survey of 500 people, 65% reported being satisfied with their current job. Calculate the 95% confidence interval for the true proportion of people who are satisfied with their job."
   ]
  },
  {
   "cell_type": "code",
   "execution_count": 17,
   "id": "d821bc64-7dbe-4b2f-b019-e4eac279958d",
   "metadata": {},
   "outputs": [
    {
     "name": "stdout",
     "output_type": "stream",
     "text": [
      "Sample Proportion: 0.65\n",
      "Sample Size: 500\n",
      "With 95% Confidence Interval, proportion of people who are satisfied with their job will lie in between: (0.6082, 0.6918)\n"
     ]
    }
   ],
   "source": [
    "import numpy as np\n",
    "\n",
    "# Sample proportion\n",
    "sample_proportion = 0.65\n",
    "\n",
    "# Sample size\n",
    "sample_size = 500\n",
    "\n",
    "# Z-score for a 95% confidence interval (standard normal distribution)\n",
    "z_score = 1.96  # You can also use stats.norm.ppf(0.975) from scipy.stats\n",
    "\n",
    "# Calculate the margin of error\n",
    "margin_of_error = z_score * np.sqrt((sample_proportion * (1 - sample_proportion)) / sample_size)\n",
    "\n",
    "# Calculate the lower and upper bounds of the confidence interval\n",
    "lower_bound = sample_proportion - margin_of_error\n",
    "upper_bound = sample_proportion + margin_of_error\n",
    "\n",
    "# Print the results\n",
    "print(\"Sample Proportion:\", sample_proportion)\n",
    "print(\"Sample Size:\", sample_size)\n",
    "print(\"With 95% Confidence Interval, proportion of people who are satisfied with their job will lie in between: ({:.4f}, {:.4f})\".format(lower_bound, upper_bound))"
   ]
  },
  {
   "cell_type": "markdown",
   "id": "129a6e9a-8e21-4558-96e5-0dc5144f6588",
   "metadata": {},
   "source": [
    "# Q12. A researcher is testing the effectiveness of two different teaching methods on student performance. Sample A has a mean score of 85 with a standard deviation of 6, while sample B has a mean score of 82 with a standard deviation of 5. Conduct a hypothesis test to determine if the two teaching methods have a significant difference in student performance using a t-test with a significance level of 0.01."
   ]
  },
  {
   "cell_type": "code",
   "execution_count": 6,
   "id": "d823c675-edd2-4dfd-8645-85a6865e8322",
   "metadata": {},
   "outputs": [
    {
     "name": "stdout",
     "output_type": "stream",
     "text": [
      "t value: 2.716072381275556\n",
      "Critical Value: 2.626931094814024\n",
      "Reject Null Hypothesis\n"
     ]
    }
   ],
   "source": [
    "import numpy as np\n",
    "from scipy import stats\n",
    "\n",
    "mean_a = 85\n",
    "std_a = 6\n",
    "n_A = 50 # assuming sample size is 50\n",
    "\n",
    "mean_b = 82\n",
    "std_b = 5\n",
    "n_B = 50 # assuming sample size is 50\n",
    "degree_of_freedom = n_A + n_B - 2\n",
    "\n",
    "significance_level = 0.01\n",
    "confidence = 1- significance_level\n",
    "\n",
    "t_num = mean_a - mean_b\n",
    "t_den = np.sqrt((std_a**2/n_A) + (std_b**2/n_B))\n",
    "t_value = t_num/t_den\n",
    "\n",
    "# H0: Their is no any significance difference in performance of both group(both mean are equal)\n",
    "# H1: Their is difference in performance of both groups(b)\n",
    "critical_value = stats.t.ppf(1- significance_level/2, degree_of_freedom)\n",
    "\n",
    "print(f\"t value: {t_value}\")\n",
    "print(f\"Critical Value: {critical_value}\")\n",
    "\n",
    "if t_value > critical_value:\n",
    "    print('Reject Null Hypothesis')\n",
    "else:\n",
    "    print('Fail to reject Null Hypothesis')"
   ]
  },
  {
   "cell_type": "markdown",
   "id": "5f9fe324-1ce4-4736-9b42-05a9ecce21a6",
   "metadata": {},
   "source": [
    "# Q13. A population has a mean of 60 and a standard deviation of 8. A sample of 50 observations has a mean of 65. Calculate the 90% confidence interval for the true population mean."
   ]
  },
  {
   "cell_type": "code",
   "execution_count": 2,
   "id": "b8212999-981f-4579-a539-4884e6127900",
   "metadata": {},
   "outputs": [
    {
     "name": "stdout",
     "output_type": "stream",
     "text": [
      "Standard Error 1.131370849898476\n",
      "Margin of Error 1.449910083898917\n",
      "True Population mean lies in between (63.550089916101086, 66.44991008389891)\n"
     ]
    }
   ],
   "source": [
    "import numpy as np\n",
    "from scipy import stats\n",
    "\n",
    "pop_mean = 60\n",
    "std = 8\n",
    "sample_size = 50\n",
    "sample_mean = 65\n",
    "confidence = 0.9\n",
    "\n",
    "standard_error = std/np.sqrt(sample_size)\n",
    "z_score = stats.norm.ppf(confidence)\n",
    "margin_of_error = z_score*standard_error\n",
    "upper_limit = sample_mean + margin_of_error\n",
    "lower_limit = sample_mean - margin_of_error\n",
    "\n",
    "print(f\"Standard Error {standard_error}\")\n",
    "print(f\"Margin of Error {margin_of_error}\")\n",
    "print(f\"True Population mean lies in between {(lower_limit, upper_limit)}\")"
   ]
  },
  {
   "cell_type": "markdown",
   "id": "913ca770-99d8-4413-ba76-f27619f88d6a",
   "metadata": {},
   "source": [
    "# Q14. In a study of the effects of caffeine on reaction time, a sample of 30 participants had an average reaction time of 0.25 seconds with a standard deviation of 0.05 seconds. Conduct a hypothesis test to determine if the caffeine has a significant effect on reaction time at a 90% confidence level using a t-test."
   ]
  },
  {
   "cell_type": "code",
   "execution_count": 1,
   "id": "dd2f4448-123a-4560-80ae-eaa8c6ebf41a",
   "metadata": {},
   "outputs": [
    {
     "name": "stdout",
     "output_type": "stream",
     "text": [
      "t-value: 0.0\n",
      "Critical Value: 1.311433643950529\n",
      "Fail to reject null hypothesis\n"
     ]
    }
   ],
   "source": [
    "import numpy as np\n",
    "from scipy import stats\n",
    "\n",
    "sample_size = 30\n",
    "sample_mean = 0.25\n",
    "mean = 0.25\n",
    "std = 0.05\n",
    "confidence = 0.90\n",
    "alpha = 1-confidence\n",
    "degree_of_freedom = sample_size - 1\n",
    "\n",
    "#H0: average reaction time is 0.25\n",
    "#H1: average reaction time is not 0.25\n",
    "\n",
    "t_value = (sample_mean - mean)/(std/np.sqrt(sample_size))\n",
    "critical_value = stats.t.ppf(confidence, degree_of_freedom)\n",
    "\n",
    "print(f\"t-value: {t_value}\")\n",
    "print(f\"Critical Value: {critical_value}\")\n",
    "\n",
    "if t_value>critical_value:\n",
    "    print('Reject Null Hypothesis')\n",
    "else:\n",
    "    print('Fail to reject null hypothesis')"
   ]
  },
  {
   "cell_type": "code",
   "execution_count": null,
   "id": "57a9945b-7c92-4688-9772-6d4f4fe85e08",
   "metadata": {},
   "outputs": [],
   "source": []
  },
  {
   "cell_type": "code",
   "execution_count": null,
   "id": "7e833dae-2b12-4716-9538-a97e4ec24450",
   "metadata": {},
   "outputs": [],
   "source": []
  }
 ],
 "metadata": {
  "kernelspec": {
   "display_name": "Python 3 (ipykernel)",
   "language": "python",
   "name": "python3"
  },
  "language_info": {
   "codemirror_mode": {
    "name": "ipython",
    "version": 3
   },
   "file_extension": ".py",
   "mimetype": "text/x-python",
   "name": "python",
   "nbconvert_exporter": "python",
   "pygments_lexer": "ipython3",
   "version": "3.10.8"
  }
 },
 "nbformat": 4,
 "nbformat_minor": 5
}
